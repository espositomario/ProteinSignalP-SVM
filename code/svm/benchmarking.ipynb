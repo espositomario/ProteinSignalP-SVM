{
 "cells": [
  {
   "cell_type": "markdown",
   "metadata": {},
   "source": []
  },
  {
   "cell_type": "code",
   "execution_count": 55,
   "metadata": {},
   "outputs": [],
   "source": [
    "# cv to optimize hyperparameter K (window len) (in principle we expect an avg len of SP of 22)\n",
    "# hyperparameters are K, gamma(sd of gaussian kernel) and c\n",
    "# POSSIBLE FEATURES\n",
    "# hydrophobicity profile along the SP (sliding window of 5), after we extract only the avg and max hp from the profile; encode also pos in which there is the max value, \n",
    "# soe cases of SP are enriched of + resdues in the N-terminal\n",
    "\n",
    "# normalize hp avg and max????\n",
    "# add also positivily charged max and pos features?"
   ]
  },
  {
   "cell_type": "code",
   "execution_count": 56,
   "metadata": {},
   "outputs": [],
   "source": [
    "import numpy as np\n",
    "import pandas as pd\n",
    "from scipy.stats import fisher_exact, mannwhitneyu, sem,normaltest,shapiro,levene\n",
    "\n",
    "import re\n",
    "import seaborn as sns\n",
    "\n",
    "import matplotlib.pyplot as plt\n",
    "from sklearn import svm\n",
    "from sklearn.pipeline import make_pipeline\n",
    "from sklearn.metrics import matthews_corrcoef,precision_score, recall_score,accuracy_score, confusion_matrix\n",
    "from Bio.SeqUtils.ProtParam import ProteinAnalysis as pa\n",
    "\n",
    "def encode(df,K,c_comp=False,local_hp=False,local_hp2=False,K2=False,win=False,features_filter=False,ch=False):\n",
    "    #add X = 0 to avoid warning regarding unknown aa\n",
    "    hp_scale = {'A': 1.8, 'R': -4.5, 'N': -3.5, 'D': -3.5, 'C': 2.5, 'Q': -3.5, 'E': -3.5, 'G': -0.4, 'H': -3.2, 'I': 4.5, 'L': 3.8, 'K': -3.9, 'M': 1.9, 'F': 2.8, 'P': -1.6, 'S': -0.8, 'T': -0.7, 'W': -0.9, 'Y': -1.3, 'V': 4.2, 'X':0.0, 'Z': 0.0, 'B': 0,'U':0}\n",
    "    \n",
    "    ch_scale = {\"A\": 0, \"R\": 1, \"N\": 0, \"D\": 0, \"C\": 0, \"Q\": 0, \"E\": 0, \"G\": 0, \"H\": 1, \"I\": 0, \"L\": 0, \"K\": 1, \"M\": 0, \"F\": 0, \"P\": 0, \"S\": 0, \"T\": 0, \"W\": 0, \"Y\": 0, \"V\": 0,'X':0,'Z':0,'B':0}\n",
    "    \n",
    "    columns = ['A1', 'C1', 'D1', 'E1', 'F1', 'G1', 'H1', 'I1', 'K1', 'L1', 'M1', 'N1', 'P1', 'Q1', 'R1', 'S1', 'T1', 'V1', 'W1', 'Y1']\n",
    "\n",
    "    # n_term comosition-------------------------------------------------------------------------------------------------------------------\n",
    "    n_comp = np.empty((0, 20)) \n",
    "    for index,row in df.iterrows():\n",
    "        seq = pa(row['Sequence'][:K])\n",
    "        profile = np.array(list(seq.get_amino_acids_percent().values()))\n",
    "        n_comp = np.vstack((n_comp,profile))\n",
    "    enc_array = n_comp\n",
    "    \n",
    "    # c_term composition-----------------------------------------------------------------------------------------------------------------\n",
    "    if c_comp:\n",
    "        c_comp = np.empty((0, 20)) \n",
    "        for index,row in df.iterrows():\n",
    "            seq = pa(row['Sequence'][K:])\n",
    "            profile = np.array(list(seq.get_amino_acids_percent().values()))\n",
    "            c_comp = np.vstack((c_comp,profile))\n",
    "        enc_array = np.hstack((enc_array,c_comp))\n",
    "        columns.extend(['A2', 'C2', 'D2', 'E2', 'F2', 'G2', 'H2', 'I2', 'K2', 'L2', 'M2', 'N2', 'P2', 'Q2', 'R2', 'S2', 'T2', 'V2', 'W2', 'Y2'])\n",
    "    # local hydrophobicity window(7) from 0 to K -> avg, max and argmax(pos)-----------------------------------------------------------\n",
    "    if local_hp:\n",
    "        local_hp = np.empty((0, 3)) \n",
    "        for index,row in df.iterrows():\n",
    "            profile = pa.protein_scale(pa(row['Sequence'][:K]),param_dict=hp_scale, window=7, edge=1.0)  #7\n",
    "            features = np.array([np.argmax(profile)/K, np.max(profile),np.average(profile)])\n",
    "            local_hp = np.vstack((local_hp,features))\n",
    "        local_hp[:,1] = (local_hp[:,1]+4.5)/9      #normalize\n",
    "        local_hp[:,2] = (local_hp[:,2]+4.5)/9\n",
    "        enc_array = np.hstack((enc_array,local_hp))\n",
    "        columns.extend(['HP max pos','HP max','HP avg'])\n",
    "\n",
    "    # local hydrophobicity window(12) from 0 to K2 -> avg, max and argmax(pos)\n",
    "\n",
    "    if local_hp2:\n",
    "        local_hp2 = np.empty((0, 3)) \n",
    "        for index,row in df.iterrows():\n",
    "            profile = pa.protein_scale(pa(row['Sequence'][:K2]),param_dict=hp_scale, window=win, edge=1.0)  #12\n",
    "            features = np.array([np.argmax(profile)/K2, np.max(profile),np.average(profile)])\n",
    "            local_hp2 = np.vstack((local_hp2,features))\n",
    "        local_hp2[:,1] = (local_hp2[:,1]+4.5)/9    #normalize\n",
    "        local_hp2[:,2] = (local_hp2[:,2]+4.5)/9\n",
    "        enc_array = np.hstack((enc_array,local_hp2))    \n",
    "        columns.extend(['HP2 max pos','HP2 max','HP2 avg'])   \n",
    "    \n",
    "    if ch:\n",
    "        ch = np.empty((0, 3)) \n",
    "        for index,row in df.iterrows():\n",
    "            profile = pa.protein_scale(pa(row['Sequence'][:K]),param_dict=ch_scale, window=5, edge=1.0)  \n",
    "            features = np.array([np.argmax(profile)/K, np.max(profile),np.average(profile)])\n",
    "            ch = np.vstack((ch,features))\n",
    "        enc_array = np.hstack((enc_array,ch))  \n",
    "        columns.extend(['CH max pos','CH max','CH avg'])   \n",
    "\n",
    "    enc_array = pd.DataFrame(enc_array, columns=columns)\n",
    "    if features_filter != False: enc_array = enc_array[features_filter]\n",
    "    return enc_array"
   ]
  },
  {
   "cell_type": "markdown",
   "metadata": {},
   "source": [
    "### Dataset preparation"
   ]
  },
  {
   "cell_type": "code",
   "execution_count": 57,
   "metadata": {},
   "outputs": [],
   "source": [
    "#! conda install biopython -y\n",
    "#random forest to perform feature selection\n",
    "#to search scales by code\n",
    "#https://www.genome.jp/aaindex/\n",
    "training= pd.read_table('../stats/training_metadata_parsed.tsv')[['Signal peptide','Sequence']]\n",
    "training['class'] = 0\n",
    "training.loc[training['Signal peptide'].notna(), 'class'] = 1\n",
    "benchmarking= pd.read_table('../stats/benchmark_metadata_parsed.tsv')[['Signal peptide','Sequence','Entry']]\n",
    "benchmarking['class'] = 0\n",
    "benchmarking.loc[benchmarking['Signal peptide'].notna(), 'class'] = 1\n",
    "\n"
   ]
  },
  {
   "cell_type": "markdown",
   "metadata": {},
   "source": [
    "### Benchmarking on a blind set"
   ]
  },
  {
   "cell_type": "code",
   "execution_count": 58,
   "metadata": {},
   "outputs": [
    {
     "data": {
      "text/html": [
       "<div>\n",
       "<style scoped>\n",
       "    .dataframe tbody tr th:only-of-type {\n",
       "        vertical-align: middle;\n",
       "    }\n",
       "\n",
       "    .dataframe tbody tr th {\n",
       "        vertical-align: top;\n",
       "    }\n",
       "\n",
       "    .dataframe thead th {\n",
       "        text-align: right;\n",
       "    }\n",
       "</style>\n",
       "<table border=\"1\" class=\"dataframe\">\n",
       "  <thead>\n",
       "    <tr style=\"text-align: right;\">\n",
       "      <th></th>\n",
       "      <th>model</th>\n",
       "      <th>K</th>\n",
       "      <th>gamma</th>\n",
       "      <th>C</th>\n",
       "      <th>MCC val</th>\n",
       "      <th>MCC test</th>\n",
       "      <th>ACC</th>\n",
       "      <th>precision</th>\n",
       "      <th>recall</th>\n",
       "    </tr>\n",
       "  </thead>\n",
       "  <tbody>\n",
       "    <tr>\n",
       "      <th>0</th>\n",
       "      <td>N-COMP+HP2+C-COMP+FF</td>\n",
       "      <td>27</td>\n",
       "      <td>8</td>\n",
       "      <td>8</td>\n",
       "      <td>/</td>\n",
       "      <td>0.89</td>\n",
       "      <td>0.98</td>\n",
       "      <td>0.92</td>\n",
       "      <td>0.89</td>\n",
       "    </tr>\n",
       "  </tbody>\n",
       "</table>\n",
       "</div>"
      ],
      "text/plain": [
       "                  model   K  gamma  C MCC val  MCC test   ACC  precision   \n",
       "0  N-COMP+HP2+C-COMP+FF  27      8  8       /      0.89  0.98       0.92  \\\n",
       "\n",
       "   recall  \n",
       "0    0.89  "
      ]
     },
     "execution_count": 58,
     "metadata": {},
     "output_type": "execute_result"
    }
   ],
   "source": [
    "#feature encoding funtion parameters\n",
    "model_combination = 'N-COMP+HP2+C-COMP+FF'\n",
    "c_comp = True #\n",
    "local_hp = False\n",
    "local_hp2 = True\n",
    "ch = False # useless\n",
    "#best features obtained with permutation importance\n",
    "features_filter = ['HP2 max','HP2 max pos','L1','HP2 avg','R1','W1','K1','K2','I1','D1','S1','E1','I2','G1','C2','M2','R2','L2','G2','Q1','N1','Y2','V1','N2','D2','P1','Y1','H1','F1']\n",
    "features_filter = ['HP2 max','HP2 max pos','L1','HP2 avg','R1','W1','K1','K2','I1','D1','S1','E1','I2','G1','C2','M2','R2','L2','G2','Q1','N1','Y2','V1','N2','D2','P1','Y1','H1']\n",
    "\n",
    "\n",
    "#features_filter = False\n",
    "C = 8\n",
    "gamma = 8\n",
    "K = 27\n",
    "#\n",
    "K2=40\n",
    "win=12\n",
    "###\n",
    "col_names = ['model','K','gamma','C','MCC val','MCC test',]\n",
    "\n",
    "X_train,Y_train,X_test,Y_test = encode(training,K, c_comp=c_comp, local_hp=local_hp, local_hp2 = local_hp2, K2=K2,win=win,ch=ch,features_filter=features_filter), training['class'], encode(benchmarking,K, c_comp=c_comp, local_hp=local_hp, local_hp2 = local_hp2, K2=K2,win=win,ch=ch,features_filter=features_filter), benchmarking['class']\n",
    "model = make_pipeline(svm.SVC(C=C, kernel='rbf', gamma=gamma))\n",
    "model.fit(X_train,Y_train)\n",
    "Y_test_pred= model.predict(X_test)\n",
    "mcc_test = matthews_corrcoef(Y_test,Y_test_pred)\n",
    "acc_test = accuracy_score(Y_test,Y_test_pred)\n",
    "prec_test = precision_score(Y_test,Y_test_pred)\n",
    "recall_test = recall_score(Y_test,Y_test_pred)\n",
    "#\n",
    "cv_results = {'model':[model_combination],'K':[K],'gamma':[gamma],'C':[C],'MCC val':['/'],'MCC test':[mcc_test],'ACC':[acc_test],'precision':[prec_test],'recall':[recall_test]}\n",
    "\n",
    "cv_results = pd.DataFrame.from_dict(cv_results).round(2)\n",
    "#cv_results = cv_results.round(3)\n",
    "\n",
    "cv_results\n"
   ]
  },
  {
   "cell_type": "code",
   "execution_count": 59,
   "metadata": {},
   "outputs": [],
   "source": [
    "#cv_results.to_csv('results/CV_results.tsv',mode='a',sep='\\t',header=False) "
   ]
  },
  {
   "cell_type": "code",
   "execution_count": 60,
   "metadata": {},
   "outputs": [
    {
     "data": {
      "image/png": "[encoded data removed]",
      "text/plain": [
       "<Figure size 150x150 with 1 Axes>"
      ]
     },
     "metadata": {},
     "output_type": "display_data"
    }
   ],
   "source": [
    "cm = confusion_matrix(Y_test,Y_test_pred)\n",
    "plt.figure(figsize=(1.5, 1.5))\n",
    "cm_plot = sns.heatmap(cm, annot=True, fmt=\"d\", cmap='Greens', cbar=False)\n",
    "cm_plot.tick_params(left=False, bottom=False)\n",
    "cm_plot.set(xticklabels=['-', '+'],yticklabels=['-', '+'])\n",
    "plt.xlabel('Predicted')\n",
    "plt.ylabel('Actual')\n",
    "plt.savefig(\"figures/confusion_matrices_benchmark.svg\", bbox_inches='tight')\n"
   ]
  },
  {
   "cell_type": "code",
   "execution_count": 61,
   "metadata": {},
   "outputs": [
    {
     "data": {
      "text/plain": [
       "0.1095890410958904"
      ]
     },
     "execution_count": 61,
     "metadata": {},
     "output_type": "execute_result"
    }
   ],
   "source": [
    "24/(24+195) #fnr"
   ]
  },
  {
   "cell_type": "markdown",
   "metadata": {},
   "source": [
    "## FP analyses"
   ]
  },
  {
   "cell_type": "code",
   "execution_count": 62,
   "metadata": {},
   "outputs": [],
   "source": [
    "benchmarking['pred_class'] = Y_test_pred"
   ]
  },
  {
   "cell_type": "code",
   "execution_count": 63,
   "metadata": {},
   "outputs": [
    {
     "name": "stdout",
     "output_type": "stream",
     "text": [
      "General FPR: 0.8999999999999999%\n"
     ]
    }
   ],
   "source": [
    "#save negative to do fp\n",
    "benchmarking[benchmarking['class']==0][['Entry','class','pred_class']].to_csv('benchmark_negative.tsv',sep='\\t',index=False)\n",
    "fpr = np.round(cm[0][1]/(cm[0][1]+cm[0][0]),decimals=3)\n",
    "print('General FPR: %s' % (fpr*100)+'%')"
   ]
  },
  {
   "cell_type": "code",
   "execution_count": 64,
   "metadata": {},
   "outputs": [
    {
     "data": {
      "text/html": [
       "<div>\n",
       "<style scoped>\n",
       "    .dataframe tbody tr th:only-of-type {\n",
       "        vertical-align: middle;\n",
       "    }\n",
       "\n",
       "    .dataframe tbody tr th {\n",
       "        vertical-align: top;\n",
       "    }\n",
       "\n",
       "    .dataframe thead th {\n",
       "        text-align: right;\n",
       "    }\n",
       "</style>\n",
       "<table border=\"1\" class=\"dataframe\">\n",
       "  <thead>\n",
       "    <tr style=\"text-align: right;\">\n",
       "      <th></th>\n",
       "      <th>Entry</th>\n",
       "      <th>pred_class</th>\n",
       "      <th>TM</th>\n",
       "      <th>TP</th>\n",
       "      <th>TP_location</th>\n",
       "    </tr>\n",
       "  </thead>\n",
       "  <tbody>\n",
       "    <tr>\n",
       "      <th>0</th>\n",
       "      <td>Q9UT72</td>\n",
       "      <td>0</td>\n",
       "      <td>0</td>\n",
       "      <td>0</td>\n",
       "      <td>NaN</td>\n",
       "    </tr>\n",
       "    <tr>\n",
       "      <th>1</th>\n",
       "      <td>P30397</td>\n",
       "      <td>0</td>\n",
       "      <td>0</td>\n",
       "      <td>0</td>\n",
       "      <td>NaN</td>\n",
       "    </tr>\n",
       "    <tr>\n",
       "      <th>2</th>\n",
       "      <td>P25398</td>\n",
       "      <td>0</td>\n",
       "      <td>0</td>\n",
       "      <td>0</td>\n",
       "      <td>NaN</td>\n",
       "    </tr>\n",
       "    <tr>\n",
       "      <th>3</th>\n",
       "      <td>O15554</td>\n",
       "      <td>0</td>\n",
       "      <td>1</td>\n",
       "      <td>0</td>\n",
       "      <td>NaN</td>\n",
       "    </tr>\n",
       "    <tr>\n",
       "      <th>4</th>\n",
       "      <td>Q8IWZ6</td>\n",
       "      <td>0</td>\n",
       "      <td>0</td>\n",
       "      <td>0</td>\n",
       "      <td>NaN</td>\n",
       "    </tr>\n",
       "    <tr>\n",
       "      <th>...</th>\n",
       "      <td>...</td>\n",
       "      <td>...</td>\n",
       "      <td>...</td>\n",
       "      <td>...</td>\n",
       "      <td>...</td>\n",
       "    </tr>\n",
       "    <tr>\n",
       "      <th>1900</th>\n",
       "      <td>Q8VY77</td>\n",
       "      <td>0</td>\n",
       "      <td>1</td>\n",
       "      <td>0</td>\n",
       "      <td>NaN</td>\n",
       "    </tr>\n",
       "    <tr>\n",
       "      <th>1901</th>\n",
       "      <td>Q86X29</td>\n",
       "      <td>0</td>\n",
       "      <td>0</td>\n",
       "      <td>0</td>\n",
       "      <td>NaN</td>\n",
       "    </tr>\n",
       "    <tr>\n",
       "      <th>1902</th>\n",
       "      <td>Q7SHB2</td>\n",
       "      <td>0</td>\n",
       "      <td>0</td>\n",
       "      <td>0</td>\n",
       "      <td>NaN</td>\n",
       "    </tr>\n",
       "    <tr>\n",
       "      <th>1903</th>\n",
       "      <td>Q9H2W6</td>\n",
       "      <td>0</td>\n",
       "      <td>0</td>\n",
       "      <td>1</td>\n",
       "      <td>Mitochondrion</td>\n",
       "    </tr>\n",
       "    <tr>\n",
       "      <th>1904</th>\n",
       "      <td>Q9C0X3</td>\n",
       "      <td>0</td>\n",
       "      <td>0</td>\n",
       "      <td>0</td>\n",
       "      <td>NaN</td>\n",
       "    </tr>\n",
       "  </tbody>\n",
       "</table>\n",
       "<p>1905 rows × 5 columns</p>\n",
       "</div>"
      ],
      "text/plain": [
       "       Entry  pred_class  TM  TP    TP_location\n",
       "0     Q9UT72           0   0   0            NaN\n",
       "1     P30397           0   0   0            NaN\n",
       "2     P25398           0   0   0            NaN\n",
       "3     O15554           0   1   0            NaN\n",
       "4     Q8IWZ6           0   0   0            NaN\n",
       "...      ...         ...  ..  ..            ...\n",
       "1900  Q8VY77           0   1   0            NaN\n",
       "1901  Q86X29           0   0   0            NaN\n",
       "1902  Q7SHB2           0   0   0            NaN\n",
       "1903  Q9H2W6           0   0   1  Mitochondrion\n",
       "1904  Q9C0X3           0   0   0            NaN\n",
       "\n",
       "[1905 rows x 5 columns]"
      ]
     },
     "execution_count": 64,
     "metadata": {},
     "output_type": "execute_result"
    }
   ],
   "source": [
    "benchmark_neg = benchmarking[benchmarking['class']==0][['Entry','pred_class']]\n",
    "benchmark_neg['TM']=0\n",
    "with open('../von_heijne/fp_analysis/transmembrane_proteins.list') as file:\n",
    "    tm_subset = [line.strip() for line in file]\n",
    "benchmark_neg['TM'] = benchmark_neg['Entry'].isin(tm_subset).astype(int)\n",
    "\n",
    "tp_subset = pd.read_table('../von_heijne/fp_analysis/transpeptide_proteins.list',sep='\\t',names=['Entry','TP_location'])\n",
    "benchmark_neg = pd.merge(benchmark_neg,tp_subset,on='Entry',how = 'outer')\n",
    "benchmark_neg.insert(loc=3, column='TP', value=0)\n",
    "benchmark_neg.loc[benchmark_neg['TP_location'].notna(), 'TP'] = 1\n",
    "benchmark_neg"
   ]
  },
  {
   "cell_type": "markdown",
   "metadata": {},
   "source": [
    "### FPR_TM"
   ]
  },
  {
   "cell_type": "code",
   "execution_count": 65,
   "metadata": {},
   "outputs": [
    {
     "name": "stdout",
     "output_type": "stream",
     "text": [
      "FPR_TM: 6.25%\n"
     ]
    }
   ],
   "source": [
    "tm_FP = benchmark_neg[(benchmark_neg['TM']==1) & (benchmark_neg['pred_class']==1)].shape[0]\n",
    "tm = benchmark_neg[(benchmark_neg['TM']==1)].shape[0]\n",
    "FPR_tm =np.round((tm_FP/tm)*100,decimals=2)\n",
    "print('FPR_TM: %s' % (FPR_tm)+'%')\n",
    "#\n",
    "\n"
   ]
  },
  {
   "cell_type": "markdown",
   "metadata": {},
   "source": [
    "### FPR_TP"
   ]
  },
  {
   "cell_type": "code",
   "execution_count": 66,
   "metadata": {},
   "outputs": [
    {
     "name": "stdout",
     "output_type": "stream",
     "text": [
      "FPR_TP: 0.5%\n"
     ]
    }
   ],
   "source": [
    "tp_FP = benchmark_neg[(benchmark_neg['TP']==1) & (benchmark_neg['pred_class']==1)].shape[0]\n",
    "tp = benchmark_neg[(benchmark_neg['TP']==1)].shape[0]\n",
    "FPR_tp =np.round((tp_FP/tp)*100,decimals=1)\n",
    "print('FPR_TP: %s' % (FPR_tp)+'%')"
   ]
  },
  {
   "cell_type": "markdown",
   "metadata": {},
   "source": [
    "### FPR_TM and FPR_TP visualization\n"
   ]
  },
  {
   "cell_type": "code",
   "execution_count": 67,
   "metadata": {},
   "outputs": [
    {
     "data": {
      "text/html": [
       "<div>\n",
       "<style scoped>\n",
       "    .dataframe tbody tr th:only-of-type {\n",
       "        vertical-align: middle;\n",
       "    }\n",
       "\n",
       "    .dataframe tbody tr th {\n",
       "        vertical-align: top;\n",
       "    }\n",
       "\n",
       "    .dataframe thead th {\n",
       "        text-align: right;\n",
       "    }\n",
       "</style>\n",
       "<table border=\"1\" class=\"dataframe\">\n",
       "  <thead>\n",
       "    <tr style=\"text-align: right;\">\n",
       "      <th></th>\n",
       "      <th>pred_class</th>\n",
       "      <th>feature</th>\n",
       "    </tr>\n",
       "  </thead>\n",
       "  <tbody>\n",
       "    <tr>\n",
       "      <th>0</th>\n",
       "      <td>TN</td>\n",
       "      <td>Transmembrane</td>\n",
       "    </tr>\n",
       "    <tr>\n",
       "      <th>1</th>\n",
       "      <td>TN</td>\n",
       "      <td>Transmembrane</td>\n",
       "    </tr>\n",
       "    <tr>\n",
       "      <th>2</th>\n",
       "      <td>TN</td>\n",
       "      <td>Transmembrane</td>\n",
       "    </tr>\n",
       "    <tr>\n",
       "      <th>3</th>\n",
       "      <td>TN</td>\n",
       "      <td>Transmembrane</td>\n",
       "    </tr>\n",
       "    <tr>\n",
       "      <th>4</th>\n",
       "      <td>FP</td>\n",
       "      <td>Transmembrane</td>\n",
       "    </tr>\n",
       "    <tr>\n",
       "      <th>...</th>\n",
       "      <td>...</td>\n",
       "      <td>...</td>\n",
       "    </tr>\n",
       "    <tr>\n",
       "      <th>373</th>\n",
       "      <td>TN</td>\n",
       "      <td>Transit peptide</td>\n",
       "    </tr>\n",
       "    <tr>\n",
       "      <th>374</th>\n",
       "      <td>TN</td>\n",
       "      <td>Transit peptide</td>\n",
       "    </tr>\n",
       "    <tr>\n",
       "      <th>375</th>\n",
       "      <td>TN</td>\n",
       "      <td>Transit peptide</td>\n",
       "    </tr>\n",
       "    <tr>\n",
       "      <th>376</th>\n",
       "      <td>TN</td>\n",
       "      <td>Transit peptide</td>\n",
       "    </tr>\n",
       "    <tr>\n",
       "      <th>377</th>\n",
       "      <td>TN</td>\n",
       "      <td>Transit peptide</td>\n",
       "    </tr>\n",
       "  </tbody>\n",
       "</table>\n",
       "<p>378 rows × 2 columns</p>\n",
       "</div>"
      ],
      "text/plain": [
       "    pred_class          feature\n",
       "0           TN    Transmembrane\n",
       "1           TN    Transmembrane\n",
       "2           TN    Transmembrane\n",
       "3           TN    Transmembrane\n",
       "4           FP    Transmembrane\n",
       "..         ...              ...\n",
       "373         TN  Transit peptide\n",
       "374         TN  Transit peptide\n",
       "375         TN  Transit peptide\n",
       "376         TN  Transit peptide\n",
       "377         TN  Transit peptide\n",
       "\n",
       "[378 rows x 2 columns]"
      ]
     },
     "execution_count": 67,
     "metadata": {},
     "output_type": "execute_result"
    }
   ],
   "source": [
    "\n",
    "benchmark_neg.loc[benchmark_neg['pred_class'] == 1,'pred_class']='FP'\n",
    "benchmark_neg.loc[benchmark_neg['pred_class'] == 0,'pred_class']='TN'\n",
    "################################################################################################\n",
    "tm_df = benchmark_neg[benchmark_neg['TM']==1][['pred_class','TM']]\n",
    "tm_df['feature'] = 'Transmembrane'\n",
    "#\n",
    "tp_df = benchmark_neg[benchmark_neg['TP']==1][['pred_class','TP']]\n",
    "tp_df['feature'] = 'Transit peptide'\n",
    "#\n",
    "tm_tp = pd.concat((tm_df[['pred_class','feature']],tp_df[['pred_class','feature']]),ignore_index=True)\n",
    "tm_tp\n"
   ]
  },
  {
   "cell_type": "code",
   "execution_count": 68,
   "metadata": {},
   "outputs": [
    {
     "data": {
      "image/png": "[encoded data removed]",
      "text/plain": [
       "<Figure size 300x400 with 1 Axes>"
      ]
     },
     "metadata": {},
     "output_type": "display_data"
    }
   ],
   "source": [
    "\n",
    "palette = {\"TN\":\"#CCB3B5\",\"FP\":\"#4D191F\"}\n",
    "sns.set_style(\"darkgrid\")\n",
    "plt.figure(figsize=(3, 4))\n",
    "sns.histplot(data=tm_tp,x = 'feature',hue='pred_class',alpha=1,stat='count',multiple='stack',common_norm=False,shrink=0.5,palette=palette).set(title='FPR within Tm and Ts subsets',xlabel='',ylabel='# of proteins')\n",
    "plt.legend(title='', labels=['TN', 'FP'])\n",
    "plt.text(-0.12, 100, f' FPR\\n{FPR_tm}%', fontsize=10)\n",
    "plt.text(0.9, 100, f'FPR\\n{FPR_tp}%', fontsize=10)\n",
    "plt.savefig(\"figures/FPR_TMandFPR_TP.svg\", bbox_inches='tight')\n"
   ]
  },
  {
   "cell_type": "markdown",
   "metadata": {},
   "source": [
    "### Over-representation of transmembrane proteins in FP with respect to TN\n"
   ]
  },
  {
   "cell_type": "code",
   "execution_count": 69,
   "metadata": {},
   "outputs": [
    {
     "data": {
      "image/png": "[encoded data removed]",
      "text/plain": [
       "<Figure size 300x400 with 1 Axes>"
      ]
     },
     "metadata": {},
     "output_type": "display_data"
    }
   ],
   "source": [
    "\n",
    "benchmark_neg.loc[benchmark_neg['TM'] == 1,'TM']='Transmembrane'\n",
    "benchmark_neg.loc[benchmark_neg['TM'] == 0,'TM']='Non-Transmembrane'\n",
    "benchmark_neg.loc[benchmark_neg['TP'] == 1,'TP']='Transit peptide'\n",
    "benchmark_neg.loc[benchmark_neg['TP'] == 0,'TP']='Non-Transit peptide'\n",
    "pivot_df = benchmark_neg.pivot_table(index='pred_class', columns='TM', values='Entry', aggfunc='count', fill_value=0)\n",
    "columns_titles = ['Transmembrane',\"Non-Transmembrane\"] #change cols order\n",
    "pivot_df = pivot_df.reindex(columns=columns_titles)\n",
    "OR, p_val = fisher_exact(pivot_df)\n",
    "p_val = '{:0.2e}'.format(p_val)\n",
    "\n",
    "# \n",
    "pivot_df['Total'] = pivot_df['Transmembrane'] + pivot_df['Non-Transmembrane']\n",
    "pivot_df['Transmembrane_Percentage'] = (pivot_df['Transmembrane'] / pivot_df['Total']) * 100\n",
    "pivot_df['Non_transmembrane_Percentage'] = (pivot_df['Non-Transmembrane'] / pivot_df['Total']) * 100\n",
    "from matplotlib.colors import ListedColormap\n",
    "\n",
    "pivot_df = pivot_df[['Transmembrane_Percentage', 'Non_transmembrane_Percentage']]\n",
    "palette = ['#19344D','#ACC0D2'] \n",
    "palette = ListedColormap(sns.color_palette(palette))\n",
    "# Create the stacked barplot\n",
    "plt.rcParams['figure.figsize'] = [3, 4]\n",
    "pivot_df[['Transmembrane_Percentage', 'Non_transmembrane_Percentage']].plot(kind='bar', stacked=True, colormap=palette,width=0.6)\n",
    "plt.title('Tm and Non-Tm % in FP vs TN')\n",
    "plt.xlabel('')\n",
    "plt.ylabel('%')\n",
    "plt.legend(title='', loc='upper right', labels=['Tm', '! Tm'], bbox_to_anchor=(1.5, 1))\n",
    "plt.text(1.8, 50, f'p_val = {p_val}\\nOR = {OR:.2f}', fontsize=10)\n",
    "plt.savefig(\"figures/ORofTMinFP.svg\", bbox_inches='tight')\n"
   ]
  },
  {
   "cell_type": "markdown",
   "metadata": {},
   "source": [
    "### Over-representation of transit peptide proteins in FP with respect to TN\n"
   ]
  },
  {
   "cell_type": "code",
   "execution_count": 70,
   "metadata": {},
   "outputs": [
    {
     "data": {
      "image/png": "[encoded data removed]",
      "text/plain": [
       "<Figure size 300x400 with 1 Axes>"
      ]
     },
     "metadata": {},
     "output_type": "display_data"
    }
   ],
   "source": [
    "\n",
    "pivot_df2 = benchmark_neg.pivot_table(index='pred_class', columns='TP', values='Entry', aggfunc='count', fill_value=0)\n",
    "#\n",
    "columns_titles = ['Transit peptide',\"Non-Transit peptide\"]\n",
    "pivot_df2=pivot_df2.reindex(columns=columns_titles)\n",
    "OR, p_val = fisher_exact(pivot_df2)\n",
    "# \n",
    "pivot_df2['Total'] = pivot_df2['Transit peptide'] + pivot_df2['Non-Transit peptide']\n",
    "pivot_df2['Transit peptide_Percentage'] = (pivot_df2['Transit peptide'] / pivot_df2['Total']) * 100\n",
    "pivot_df2['Non_Transit-peptide_Percentage'] = (pivot_df2['Non-Transit peptide'] / pivot_df2['Total']) * 100\n",
    "pivot_df2\n",
    "pivot_df = pivot_df[['Transmembrane_Percentage', 'Non_transmembrane_Percentage']]\n",
    "palette = ['#194D1D','#B3CBB5']\n",
    "palette = ListedColormap(sns.color_palette(palette))\n",
    "#\n",
    "plt.rcParams['figure.figsize'] = [3, 4]\n",
    "pivot_df2[['Transit peptide_Percentage', 'Non_Transit-peptide_Percentage']].plot(kind='bar', stacked=True, colormap=palette,width=0.6)\n",
    "plt.title('Ts and Non-Ts % in FP vs TN')\n",
    "plt.xlabel('')\n",
    "plt.ylabel('%')\n",
    "plt.legend(title='', labels=['Ts', '! Ts'], bbox_to_anchor=(1.5, 1))\n",
    "plt.text(1.8, 50, f'p_val = {p_val:.2f}\\nOR = {OR:.2f}', fontsize=10)\n",
    "plt.savefig(\"figures/ORofTPinFP.svg\", bbox_inches='tight')\n"
   ]
  },
  {
   "cell_type": "markdown",
   "metadata": {},
   "source": [
    "## FN analyses"
   ]
  },
  {
   "cell_type": "markdown",
   "metadata": {},
   "source": [
    "#### Compare SP len of FNs VS TPs (Levene)"
   ]
  },
  {
   "cell_type": "code",
   "execution_count": 71,
   "metadata": {},
   "outputs": [],
   "source": [
    "positives = benchmarking[benchmarking['class']==1]\n",
    "#MWU pval\n",
    "tp_len = np.array(positives[positives['pred_class']==1]['Signal peptide'])\n",
    "fn_len = np.array(positives[positives['pred_class']==0]['Signal peptide'])"
   ]
  },
  {
   "cell_type": "markdown",
   "metadata": {},
   "source": [
    "### normality test (Shapiro)"
   ]
  },
  {
   "cell_type": "code",
   "execution_count": 72,
   "metadata": {},
   "outputs": [
    {
     "name": "stdout",
     "output_type": "stream",
     "text": [
      "FN does not look Gaussian (reject H0)\n",
      "TP does not look Gaussian (reject H0)\n"
     ]
    }
   ],
   "source": [
    "stat,fn_normality_p = shapiro(fn_len)\n",
    "stat,tp_normality_p =shapiro(tp_len)\n",
    "alpha = 0.05\n",
    "if fn_normality_p > alpha:\n",
    "    print('FN  looks Gaussian (fail to reject H0)')\n",
    "else:\n",
    "    print('FN does not look Gaussian (reject H0)')\n",
    "\n",
    "if tp_normality_p > alpha:\n",
    "    print('TP  looks Gaussian (fail to reject H0)')\n",
    "else:\n",
    "    print('TP does not look Gaussian (reject H0)')"
   ]
  },
  {
   "cell_type": "code",
   "execution_count": 73,
   "metadata": {},
   "outputs": [],
   "source": [
    "stats, levene_p =levene(tp_len,fn_len)\n",
    "stats, mwu_p = mannwhitneyu(tp_len,fn_len)\n",
    "levene_p = '{:0.2e}'.format(levene_p)\n"
   ]
  },
  {
   "cell_type": "code",
   "execution_count": 74,
   "metadata": {},
   "outputs": [
    {
     "data": {
      "image/png": "[encoded data removed]",
      "text/plain": [
       "<Figure size 400x600 with 1 Axes>"
      ]
     },
     "metadata": {},
     "output_type": "display_data"
    }
   ],
   "source": [
    "#\n",
    "positives.loc[positives['pred_class']==1,'pred_class'] = 'TP'\n",
    "positives.loc[positives['pred_class']==0,'pred_class'] = 'FN'\n",
    "#\n",
    "sns.set(rc={\"figure.figsize\":(4, 6)},style = 'whitegrid') \n",
    "\n",
    "sns.boxplot(data=positives, y=\"Signal peptide\",x='pred_class',palette=['#363636','#AAAAAA'])\n",
    "plt.text(-0.3, 53, f'Levene p-val = {levene_p}', fontsize=12)\n",
    "plt.text(-0.3, 51, f'MWU p-val = {mwu_p:.3f}', fontsize=12)\n",
    "plt.xlabel('')\n",
    "plt.ylabel('SP length')\n",
    "plt.savefig(\"figures/SP_lenFNvsTP.svg\", bbox_inches='tight')\n",
    "\n",
    "\n",
    "\n"
   ]
  },
  {
   "cell_type": "markdown",
   "metadata": {},
   "source": [
    "## FN vs TP N-COMP (:K)"
   ]
  },
  {
   "cell_type": "code",
   "execution_count": 75,
   "metadata": {},
   "outputs": [],
   "source": [
    "euc_freq = {'M': 2.294367689100498, 'R': 5.28659479524882, 'F': 4.061144192552833, 'Q': 4.243880060805525, 'V': 6.195116301658416, 'I': 5.2782038449558515, 'A': 6.964597776165187, 'T': 5.474762802434163, 'S': 8.167359184996902, 'Y': 2.9958458540998643, 'P': 5.352921291956602, 'G': 6.4210338295777225, 'D': 5.162172071912705, 'L': 9.66490107039764, 'N': 4.366213941365931, 'K': 5.957815728327312, 'E': 6.579050194696789, 'H': 2.411104159651493, 'W': 1.2401562853801333, 'C': 1.882758924715616}\n",
    "euc_freq = pd.DataFrame(euc_freq.items(),columns=['aa','%'])"
   ]
  },
  {
   "cell_type": "code",
   "execution_count": 76,
   "metadata": {},
   "outputs": [],
   "source": [
    "#TP\n",
    "#note that are present Z,U,X letters too\n",
    "tp_comp = {'Z' :0,'U' :0,'X' :0,'A': 0, 'Q': 0, 'L': 0, 'S': 0, 'R': 0, 'E': 0, 'K': 0, 'T': 0, 'N': 0, 'G': 0, 'M': 0, 'W': 0, 'D': 0, 'H': 0, 'F': 0, 'Y': 0, 'C': 0, 'I': 0, 'P': 0, 'V': 0}\n",
    "for index, row in positives.iterrows():\n",
    "    if row['pred_class']=='TP':\n",
    "        for char in row[\"Sequence\"][:K]:\n",
    "            tp_comp[char] += 1\n",
    "#remove strange aa\n",
    "aa_to_remove = ['X','Z','U']\n",
    "for key in aa_to_remove:\n",
    "    tp_comp.pop(key)\n",
    "#normalize the frequencies\n",
    "factor=sum(tp_comp.values())/100\n",
    "for k in tp_comp.keys():\n",
    "    tp_comp[k] = tp_comp[k]/factor\n",
    "#FN\n",
    "#note that are present Z,U,X letters too\n",
    "fn_comp = {'Z' :0,'U' :0,'X' :0,'A': 0, 'Q': 0, 'L': 0, 'S': 0, 'R': 0, 'E': 0, 'K': 0, 'T': 0, 'N': 0, 'G': 0, 'M': 0, 'W': 0, 'D': 0, 'H': 0, 'F': 0, 'Y': 0, 'C': 0, 'I': 0, 'P': 0, 'V': 0}\n",
    "for index, row in positives.iterrows():\n",
    "    if row['pred_class']=='FN':\n",
    "        for char in row[\"Sequence\"][:K]:\n",
    "            fn_comp[char] += 1\n",
    "#remove strange aa\n",
    "aa_to_remove = ['X','Z','U']\n",
    "for key in aa_to_remove:\n",
    "    fn_comp.pop(key)\n",
    "#normalize the frequencies\n",
    "factor=sum(fn_comp.values())/100\n",
    "for k in fn_comp.keys():\n",
    "    fn_comp[k] = fn_comp[k]/factor"
   ]
  },
  {
   "cell_type": "code",
   "execution_count": 77,
   "metadata": {},
   "outputs": [],
   "source": [
    "amino_acid_groups = {\n",
    "    'polar': ['S', 'T', 'N', 'Q', 'H','C'],\n",
    "    'apolar': ['G', 'A', 'V', 'P', 'L', 'I', 'M'],\n",
    "    'charged': [ 'D', 'E', 'K', 'R'],\n",
    "    'aromatic': ['F', 'W', 'Y']}\n",
    "aa_order = ['G','A','V','P','L','I','M','D','E','K','R','F','W','Y','S','T','C','N','Q','H']     \n",
    "tp_comp = pd.DataFrame(tp_comp.items(),columns=['aa','%'])\n",
    "fn_comp = pd.DataFrame(fn_comp.items(),columns=['aa','%'])\n",
    "tp_comp['set'] = 'TP'\n",
    "fn_comp['set'] = 'FN'\n",
    "df_composition = pd.concat((tp_comp, fn_comp),ignore_index=True)\n",
    "\n",
    "euc_freq['group'] = euc_freq['aa'].apply(lambda x: next((group for group, aas in amino_acid_groups.items() if x in aas), None))\n",
    "df_composition['group'] = df_composition['aa'].apply(lambda x: next((group for group, aas in amino_acid_groups.items() if x in aas), None))\n"
   ]
  },
  {
   "cell_type": "code",
   "execution_count": 78,
   "metadata": {},
   "outputs": [
    {
     "data": {
      "image/png": "[encoded data removed]",
      "text/plain": [
       "<Figure size 1400x600 with 1 Axes>"
      ]
     },
     "metadata": {},
     "output_type": "display_data"
    }
   ],
   "source": [
    "sns.set(rc={\"figure.figsize\":(14, 6)},style = 'whitegrid') \n",
    "sns.barplot(data=euc_freq,x='aa',y='%',width=0.8,order=aa_order,hue='group',alpha=1,dodge=False,palette=[\"#993767\",\"#be5168\",\"#e16552\",\"#e2975d\",\"#e9d78e\",\"#3b8d9c\"])\n",
    "sns.barplot(data=df_composition,x='aa',y='%',hue='set',width=0.4,order=aa_order,palette=['#363636','#AAAAAA']).set(title='N-term-COMPOSITION: TP vs FN (vs SwissProt)', xlabel='aa', ylabel='freq %')\n",
    "# Create custom legend handles for the first legend\n",
    "handles1 = [plt.Line2D([0], [0], marker='o', color='w', markerfacecolor=color, markersize=10, label=label) for label, color in zip(euc_freq['group'].unique(), [\"#993767\", \"#be5168\", \"#e16552\", \"#e2975d\", \"#e9d78e\", \"#3b8d9c\"])]\n",
    "# Create custom legend handles for the second legend\n",
    "handles2 = [plt.Line2D([0], [0], marker='o', color='w', markerfacecolor=color, markersize=10, label=label) for label, color in zip(df_composition['set'].unique(), ['#363636','#AAAAAA'])]\n",
    "# Create separate legends\n",
    "legend1 = plt.legend(title=\"SwissProt background\", handles=handles1, loc='upper right')\n",
    "legend2 = plt.legend(title=\"Set\", handles=handles2, loc='upper left')\n",
    "# Add the legends to the plot\n",
    "plt.gca().add_artist(legend1)\n",
    "plt.savefig('figures/comp.svg', bbox_inches='tight')"
   ]
  },
  {
   "cell_type": "markdown",
   "metadata": {},
   "source": [
    "### C-COMP "
   ]
  },
  {
   "cell_type": "code",
   "execution_count": 79,
   "metadata": {},
   "outputs": [],
   "source": [
    "#TP\n",
    "#note that are present Z,U,X letters too\n",
    "tp_comp = {'Z' :0,'U' :0,'X' :0,'A': 0, 'Q': 0, 'L': 0, 'S': 0, 'R': 0, 'E': 0, 'K': 0, 'T': 0, 'N': 0, 'G': 0, 'M': 0, 'W': 0, 'D': 0, 'H': 0, 'F': 0, 'Y': 0, 'C': 0, 'I': 0, 'P': 0, 'V': 0}\n",
    "for index, row in positives.iterrows():\n",
    "    if row['pred_class']=='TP':\n",
    "        for char in row[\"Sequence\"][K:]:\n",
    "            tp_comp[char] += 1\n",
    "#remove strange aa\n",
    "aa_to_remove = ['X','Z','U']\n",
    "for key in aa_to_remove:\n",
    "    tp_comp.pop(key)\n",
    "#normalize the frequencies\n",
    "factor=sum(tp_comp.values())/100\n",
    "for k in tp_comp.keys():\n",
    "    tp_comp[k] = tp_comp[k]/factor\n",
    "#FN\n",
    "#note that are present Z,U,X letters too\n",
    "fn_comp = {'Z' :0,'U' :0,'X' :0,'A': 0, 'Q': 0, 'L': 0, 'S': 0, 'R': 0, 'E': 0, 'K': 0, 'T': 0, 'N': 0, 'G': 0, 'M': 0, 'W': 0, 'D': 0, 'H': 0, 'F': 0, 'Y': 0, 'C': 0, 'I': 0, 'P': 0, 'V': 0}\n",
    "for index, row in positives.iterrows():\n",
    "    if row['pred_class']=='FN':\n",
    "        for char in row[\"Sequence\"][K:]:\n",
    "            fn_comp[char] += 1\n",
    "#remove strange aa\n",
    "aa_to_remove = ['X','Z','U']\n",
    "for key in aa_to_remove:\n",
    "    fn_comp.pop(key)\n",
    "#normalize the frequencies\n",
    "factor=sum(fn_comp.values())/100\n",
    "for k in fn_comp.keys():\n",
    "    fn_comp[k] = fn_comp[k]/factor\n"
   ]
  },
  {
   "cell_type": "code",
   "execution_count": 80,
   "metadata": {},
   "outputs": [],
   "source": [
    "amino_acid_groups = {\n",
    "    'polar': ['S', 'T', 'N', 'Q', 'H','C'],\n",
    "    'apolar': ['G', 'A', 'V', 'P', 'L', 'I', 'M'],\n",
    "    'charged': [ 'D', 'E', 'K', 'R'],\n",
    "    'aromatic': ['F', 'W', 'Y']}\n",
    "aa_order = ['G','A','V','P','L','I','M','D','E','K','R','F','W','Y','S','T','C','N','Q','H']     \n",
    "tp_comp = pd.DataFrame(tp_comp.items(),columns=['aa','%'])\n",
    "fn_comp = pd.DataFrame(fn_comp.items(),columns=['aa','%'])\n",
    "tp_comp['set'] = 'TP'\n",
    "fn_comp['set'] = 'FN'\n",
    "df_composition = pd.concat((tp_comp, fn_comp),ignore_index=True)\n",
    "\n",
    "euc_freq['group'] = euc_freq['aa'].apply(lambda x: next((group for group, aas in amino_acid_groups.items() if x in aas), None))\n",
    "df_composition['group'] = df_composition['aa'].apply(lambda x: next((group for group, aas in amino_acid_groups.items() if x in aas), None))\n"
   ]
  },
  {
   "cell_type": "code",
   "execution_count": 81,
   "metadata": {},
   "outputs": [
    {
     "data": {
      "text/plain": [
       "<matplotlib.legend.Legend at 0x11d7c3cd0>"
      ]
     },
     "execution_count": 81,
     "metadata": {},
     "output_type": "execute_result"
    },
    {
     "data": {
      "image/png": "[encoded data removed]",
      "text/plain": [
       "<Figure size 1400x600 with 1 Axes>"
      ]
     },
     "metadata": {},
     "output_type": "display_data"
    }
   ],
   "source": [
    "sns.set(rc={\"figure.figsize\":(14, 6)},style = 'whitegrid') \n",
    "sns.barplot(data=euc_freq,x='aa',y='%',width=0.8,order=aa_order,hue='group',alpha=1,dodge=False,palette=[\"#993767\",\"#be5168\",\"#e16552\",\"#e2975d\",\"#e9d78e\",\"#3b8d9c\"])\n",
    "sns.barplot(data=df_composition,x='aa',y='%',hue='set',width=0.4,order=aa_order,palette=['#363636','#AAAAAA']).set(title='C-term-COMPOSITION: TP vs FN (vs SwissProt)', xlabel='aa', ylabel='freq %')\n",
    "# Create custom legend handles for the first legend\n",
    "handles1 = [plt.Line2D([0], [0], marker='o', color='w', markerfacecolor=color, markersize=10, label=label) for label, color in zip(euc_freq['group'].unique(), [\"#993767\", \"#be5168\", \"#e16552\", \"#e2975d\", \"#e9d78e\", \"#3b8d9c\"])]\n",
    "# Create custom legend handles for the second legend\n",
    "handles2 = [plt.Line2D([0], [0], marker='o', color='w', markerfacecolor=color, markersize=10, label=label) for label, color in zip(df_composition['set'].unique(), ['#363636','#AAAAAA'])]\n",
    "# Create separate legends\n",
    "legend1 = plt.legend(title=\"SwissProt background\", handles=handles1, loc='upper right')\n",
    "legend2 = plt.legend(title=\"Set\", handles=handles2, loc='upper left')\n",
    "# Add the legends to the plot\n",
    "plt.gca().add_artist(legend1)\n",
    "#plt.savefig('figures/comp.svg')"
   ]
  }
 ],
 "metadata": {
  "kernelspec": {
   "display_name": "sklearn",
   "language": "python",
   "name": "python3"
  },
  "language_info": {
   "codemirror_mode": {
    "name": "ipython",
    "version": 3
   },
   "file_extension": ".py",
   "mimetype": "text/x-python",
   "name": "python",
   "nbconvert_exporter": "python",
   "pygments_lexer": "ipython3",
   "version": "3.10.10"
  },
  "orig_nbformat": 4
 },
 "nbformat": 4,
 "nbformat_minor": 2
}
